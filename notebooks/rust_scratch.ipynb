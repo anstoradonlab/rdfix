{
 "cells": [
  {
   "cell_type": "code",
   "execution_count": null,
   "metadata": {},
   "outputs": [],
   "source": [
    ":dep num"
   ]
  },
  {
   "cell_type": "code",
   "execution_count": null,
   "metadata": {},
   "outputs": [
    {
     "name": "stdout",
     "output_type": "stream",
     "text": [
      "Hello\n"
     ]
    }
   ],
   "source": [
    "println!(\"Hello\");"
   ]
  },
  {
   "cell_type": "code",
   "execution_count": null,
   "metadata": {},
   "outputs": [],
   "source": [
    ":dep itertools\n",
    ":dep statrs"
   ]
  },
  {
   "cell_type": "code",
   "execution_count": null,
   "metadata": {},
   "outputs": [],
   "source": [
    "use statrs::distribution::{LogNormal, Poisson, Normal, Continuous, Discrete};\n",
    "use statrs::function::logistic::{logit, logistic};\n"
   ]
  },
  {
   "cell_type": "code",
   "execution_count": null,
   "metadata": {},
   "outputs": [
    {
     "data": {
      "text/plain": [
       "-inf"
      ]
     },
     "execution_count": 5,
     "metadata": {},
     "output_type": "execute_result"
    }
   ],
   "source": [
    "let v = logit(0.0);\n",
    "v"
   ]
  },
  {
   "cell_type": "code",
   "execution_count": null,
   "metadata": {},
   "outputs": [
    {
     "data": {
      "text/plain": [
       "-inf"
      ]
     },
     "execution_count": 6,
     "metadata": {},
     "output_type": "execute_result"
    }
   ],
   "source": [
    "let v = logit(-0.0);\n",
    "v"
   ]
  },
  {
   "cell_type": "code",
   "execution_count": null,
   "metadata": {},
   "outputs": [
    {
     "data": {
      "text/plain": [
       "0.5"
      ]
     },
     "execution_count": 7,
     "metadata": {},
     "output_type": "execute_result"
    }
   ],
   "source": [
    "let x = logistic(0.0);\n",
    "x"
   ]
  },
  {
   "cell_type": "code",
   "execution_count": null,
   "metadata": {},
   "outputs": [
    {
     "data": {
      "text/html": [
       "<table><tr><th></th><th>0</th><th>1</th><th>2</th><th>3</th></tr><tr><th>0</th><td>0.0</td><td>0.0</td><td>0.0</td><td>0.0</td></tr><tr><th>1</th><td>0.0</td><td>0.0</td><td>0.0</td><td>0.0</td></tr><tr><th>2</th><td>0.0</td><td>0.0</td><td>0.0</td><td>0.0</td></tr></table>"
      ],
      "text/plain": [
       "Ok(())"
      ]
     },
     "execution_count": 8,
     "metadata": {},
     "output_type": "execute_result"
    }
   ],
   "source": [
    ":dep showata = { version = \"0.3\", features=[\"show_ndarray\"]}\n",
    ":dep ndarray = \"0.14\"\n",
    "\n",
    "use showata::Showable;\n",
    "use ndarray::Array2;\n",
    "\n",
    "\n",
    "let data: Array2<f64> = Array2::zeros((3, 4));\n",
    "data.show()\n"
   ]
  },
  {
   "cell_type": "code",
   "execution_count": null,
   "metadata": {},
   "outputs": [],
   "source": [
    ":dep itertools\n",
    ":dep statrs\n",
    ":dep assert_approx_eq\n",
    ":dep anyhow\n",
    "\n",
    "use itertools::izip\n",
    "use statrs::distribution::{LogNormal, Poisson, Normal, Continuous, Discrete};\n",
    "use statrs::function::logistic::{logit, logistic, checked_logit};\n",
    "use assert_approx_eq::assert_approx_eq\n",
    "use anyhow::Result;\n"
   ]
  },
  {
   "cell_type": "code",
   "execution_count": null,
   "metadata": {},
   "outputs": [],
   "source": [
    "// Transform a variable defined over [0,1] to a variable defined over [-inf, +inf]\n",
    "fn transform_constrained_to_unconstrained(x:f64) -> f64{\n",
    "    const a: f64 = 0.0;\n",
    "    const b: f64 = 1.0;\n",
    "    let y = \n",
    "        if x==a {\n",
    "            -f64::INFINITY\n",
    "        }\n",
    "        else if x == b {\n",
    "            f64::INFINITY \n",
    "        }\n",
    "        else {\n",
    "            let p = (x-a)/(b-a);\n",
    "            let result = checked_logit( p );\n",
    "            match result{\n",
    "                Ok(y) => y,\n",
    "                // TODO: attach context to the error using ThisError or Anyhow\n",
    "                Err(e) => { println!(\"p={}\",p); panic!(\"{}\",e);},\n",
    "            }\n",
    "        };\n",
    "    y\n",
    "}\n",
    "\n",
    "// Transform a variable defined over (-inf,inf) to a variable defined over (0,1)\n",
    "fn transform_unconstrained_to_constrained(y:f64) -> f64{\n",
    "    const a: f64 = 0.0;\n",
    "    const b: f64 = 1.0;\n",
    "    let x = a + (b-a) * logistic(y);\n",
    "    x\n",
    "}\n",
    "\n"
   ]
  },
  {
   "cell_type": "code",
   "execution_count": null,
   "metadata": {},
   "outputs": [],
   "source": [
    "fn is_power_of_two(num:usize) -> bool\n",
    "{\n",
    "    num & (num - 1) == 0\n",
    "}\n",
    "\n",
    "fn log2_usize(num:usize) -> usize\n",
    "{\n",
    "    let mut tmp = num;\n",
    "    let mut shift_count = 0;\n",
    "    while tmp > 0 {\n",
    "        tmp = tmp >> 1;\n",
    "        shift_count += 1;\n",
    "    }\n",
    "    shift_count - 1\n",
    "}\n",
    "\n",
    "// Transform radon concentrations from actual values into a simpler-to-sample form\n",
    "fn transform_radon_concs(radon_conc: &mut[f64]) -> Result<()>{\n",
    "    let n = radon_conc.len();\n",
    "    assert!(is_power_of_two(n));\n",
    "    let num_levels = log2_usize(n);\n",
    "    let mut row = radon_conc.to_owned();\n",
    "    let mut params: Vec<f64> = Vec::new();\n",
    "    for _ in 0..num_levels{\n",
    "        // pair elements, and then take average of consecutive elements\n",
    "        params.extend(row.chunks_exact(2).map(|w| w[0] / (w[0]+w[1]/2.0)));\n",
    "        row = row.chunks_exact(2).map(|w| w[0]+w[1]/2.0).collect();\n",
    "        //row.clear();\n",
    "        //row.extend(tmp.iter());\n",
    "        //println!(\"{:?}\", row);\n",
    "\n",
    "    }\n",
    "    assert!(row.len() == 1);\n",
    "    params.extend(row);\n",
    "    assert!(radon_conc.len() == params.len());\n",
    "    for ii in 0..n{\n",
    "        radon_conc[ii] = transform_unconstrained_to_constrained(params[ii]/2.0);\n",
    "    }\n",
    "    \n",
    "\n",
    "    Ok(())\n",
    "}\n",
    "\n",
    "// Reverse transform radon concentration (from sampling form back to true values)\n",
    "fn inverse_transform_radon_concs(p: &mut[f64]) -> Result<()>{\n",
    "    let npts = p.len();\n",
    "    assert!(is_power_of_two(npts));\n",
    "    let num_levels = log2_usize(npts);\n",
    "\n",
    "    let mut params = p.iter().map(|itm| transform_constrained_to_unconstrained(*itm)).collect::<Vec<_>>();\n",
    "    let mut n = 1;\n",
    "    let mut a: Vec<f64> = vec![params.pop().unwrap()];\n",
    "    \n",
    "    let rp = &params[..];\n",
    "    \n",
    "    for _ in 1..num_levels+1{\n",
    "        // parameters for this level of the reconstruction\n",
    "        let p = &rp[rp.len()-n..rp.len()];\n",
    "        // remaining parameters\n",
    "        let rp = &[..rp.len()-n];\n",
    "        // reconstruct this level\n",
    "        a = izip!(a,p).map(|ap| {let (a,p) = ap; [a*p, a*(2.0-p)]}).flatten().collect();\n",
    "        n *= 2\n",
    "    }\n",
    "    for ii in 0..npts{\n",
    "        p[ii] = a[ii];\n",
    "    }\n",
    "\n",
    "\n",
    "    Ok(())\n",
    "}\n"
   ]
  },
  {
   "cell_type": "code",
   "execution_count": null,
   "metadata": {},
   "outputs": [
    {
     "data": {
      "text/plain": [
       "0.0"
      ]
     },
     "execution_count": 12,
     "metadata": {},
     "output_type": "execute_result"
    }
   ],
   "source": [
    "transform_constrained_to_unconstrained(0.5)"
   ]
  },
  {
   "cell_type": "code",
   "execution_count": null,
   "metadata": {},
   "outputs": [
    {
     "data": {
      "text/html": [
       "<table><tr><th></th><th>0</th><tr><tr><th>0</th><td>0.0</td></tr><tr><th>1</th><td>1.0</td></tr><tr><th>2</th><td>2.0</td></tr><tr><th>3</th><td>3.0</td></tr><tr><th>4</th><td>4.0</td></tr><tr><th>5</th><td>5.0</td></tr><tr><th>6</th><td>6.0</td></tr><tr><th>7</th><td>7.0</td></tr><tr><th>8</th><td>8.0</td></tr><tr><th>9</th><td>9.0</td></tr><tr><th>10</th><td>10.0</td></tr><tr><th>11</th><td>11.0</td></tr><tr><th>12</th><td>12.0</td></tr><tr><th>13</th><td>13.0</td></tr><tr><th>14</th><td>14.0</td></tr><tr><th>15</th><td>15.0</td></tr><tr><th>16</th><td>16.0</td></tr><tr><th>17</th><td>17.0</td></tr><tr><th>18</th><td>18.0</td></tr><tr><th>19</th><td>19.0</td></tr><tr><th>20</th><td>20.0</td></tr><tr><th>21</th><td>21.0</td></tr><tr><th>22</th><td>22.0</td></tr><tr><th>23</th><td>23.0</td></tr><tr><th>24</th><td>24.0</td></tr><tr><th>25</th><td>25.0</td></tr><tr><th>26</th><td>26.0</td></tr><tr><th>27</th><td>27.0</td></tr><tr><th>28</th><td>28.0</td></tr><tr><th>29</th><td>29.0</td></tr><tr><th>30</th><td>30.0</td></tr><tr><th>31</th><td>31.0</td></tr><tr><th>32</th><td>32.0</td></tr><tr><th>33</th><td>33.0</td></tr><tr><th>34</th><td>34.0</td></tr><tr><th>35</th><td>35.0</td></tr><tr><th>36</th><td>36.0</td></tr><tr><th>37</th><td>37.0</td></tr><tr><th>38</th><td>38.0</td></tr><tr><th>39</th><td>39.0</td></tr><tr><th>40</th><td>40.0</td></tr><tr><th>41</th><td>41.0</td></tr><tr><th>42</th><td>42.0</td></tr><tr><th>43</th><td>43.0</td></tr><tr><th>44</th><td>44.0</td></tr><tr><th>45</th><td>45.0</td></tr><tr><th>46</th><td>46.0</td></tr><tr><th>47</th><td>47.0</td></tr><tr><th>48</th><td>48.0</td></tr><tr><th>49</th><td>49.0</td></tr><tr><th>50</th><td>50.0</td></tr><tr><th>51</th><td>51.0</td></tr><tr><th>52</th><td>52.0</td></tr><tr><th>53</th><td>53.0</td></tr><tr><th>54</th><td>54.0</td></tr><tr><th>55</th><td>55.0</td></tr><tr><th>56</th><td>56.0</td></tr><tr><th>57</th><td>57.0</td></tr><tr><th>58</th><td>58.0</td></tr><tr><th>59</th><td>59.0</td></tr><tr><th>60</th><td>60.0</td></tr><tr><th>61</th><td>61.0</td></tr><tr><th>62</th><td>62.0</td></tr><tr><th>63</th><td>63.0</td></tr></table>"
      ]
     },
     "execution_count": 13,
     "metadata": {},
     "output_type": "execute_result"
    }
   ],
   "source": [
    "let npts = 64;\n",
    "let radon: Vec<f64> = (0..npts).map(|itm| itm as f64).collect();\n",
    "radon"
   ]
  },
  {
   "cell_type": "code",
   "execution_count": null,
   "metadata": {},
   "outputs": [
    {
     "data": {
      "text/html": [
       "<table><tr><th></th><th>0</th><tr><tr><th>0</th><td>0.5</td></tr><tr><th>1</th><td>0.5709465968834663</td></tr><tr><th>2</th><td>0.5763218799074524</td></tr><tr><th>3</th><td>0.5782977732960317</td></tr><tr><th>4</th><td>0.5793242521487495</td></tr><tr><th>5</th><td>0.5799530460821379</td></tr><tr><th>6</th><td>0.5803777601039839</td></tr><tr><th>7</th><td>0.5806838754763852</td></tr><tr><th>8</th><td>0.580914982687901</td></tr><tr><th>9</th><td>0.5810956417872526</td></tr><tr><th>10</th><td>0.5812407456456038</td></tr><tr><th>11</th><td>0.5813598502505674</td></tr><tr><th>12</th><td>0.5814593687435406</td></tr><tr><th>13</th><td>0.5815437653081025</td></tr><tr><th>14</th><td>0.5816162432537215</td></tr><tr><th>15</th><td>0.5816791608108997</td></tr><tr><th>16</th><td>0.5817342925681293</td></tr><tr><th>17</th><td>0.5817829995090918</td></tr><tr><th>18</th><td>0.5818263428769723</td></tr><tr><th>19</th><td>0.581865162385969</td></tr><tr><th>20</th><td>0.5819001311580918</td></tr><tr><th>21</th><td>0.5819317950840232</td></tr><tr><th>22</th><td>0.5819606015277514</td></tr><tr><th>23</th><td>0.5819869205954674</td></tr><tr><th>24</th><td>0.582011061122924</td></tr><tr><th>25</th><td>0.5820332828505566</td></tr><tr><th>26</th><td>0.5820538058063751</td></tr><tr><th>27</th><td>0.5820728176162173</td></tr><tr><th>28</th><td>0.5820904792565383</td></tr><tr><th>29</th><td>0.5821069296235851</td></tr><tr><th>30</th><td>0.5821222891936499</td></tr><tr><th>31</th><td>0.5821366629785726</td></tr><tr><th>32</th><td>0.5277492350545132</td></tr><tr><th>33</th><td>0.5717240928009726</td></tr><tr><th>34</th><td>0.5765537481464625</td></tr><tr><th>35</th><td>0.5784074722908125</td></tr><tr><th>36</th><td>0.5793879652487858</td></tr><tr><th>37</th><td>0.5799946238574513</td></tr><tr><th>38</th><td>0.5804070138053703</td></tr><tr><th>39</th><td>0.5807055709554553</td></tr><tr><th>40</th><td>0.5809317112945035</td></tr><tr><th>41</th><td>0.5811089326646203</td></tr><tr><th>42</th><td>0.5812515590563603</td></tr><tr><th>43</th><td>0.5813688194727897</td></tr><tr><th>44</th><td>0.5814669282675189</td></tr><tr><th>45</th><td>0.5815502231296064</td></tr><tr><th>46</th><td>0.5816218237681893</td></tr><tr><th>47</th><td>0.5816840313670929</td></tr><tr><th>48</th><td>0.5356536708339716</td></tr><tr><th>49</th><td>0.5720751041796139</td></tr><tr><th>50</th><td>0.5766633468577319</td></tr><tr><th>51</th><td>0.5784602361402676</td></tr><tr><th>52</th><td>0.579418892984728</td></tr><tr><th>53</th><td>0.5800149212566372</td></tr><tr><th>54</th><td>0.5804213498500702</td></tr><tr><th>55</th><td>0.5807162326193993</td></tr><tr><th>56</th><td>0.5388106602533228</td></tr><tr><th>57</th><td>0.5722422269817686</td></tr><tr><th>58</th><td>0.5767166624226631</td></tr><tr><th>59</th><td>0.578486119637897</td></tr><tr><th>60</th><td>0.5402353929097253</td></tr><tr><th>61</th><td>0.5723238085056596</td></tr><tr><th>62</th><td>0.5409136074052757</td></tr><tr><th>63</th><td>1.0</td></tr></table>"
      ]
     },
     "execution_count": 14,
     "metadata": {},
     "output_type": "execute_result"
    }
   ],
   "source": [
    "let mut radon_transformed = radon.clone();\n",
    "transform_radon_concs(& mut radon_transformed).unwrap();\n",
    "radon_transformed"
   ]
  },
  {
   "cell_type": "code",
   "execution_count": null,
   "metadata": {},
   "outputs": [
    {
     "data": {
      "text/html": [
       "<table><tr><th></th><th>0</th><tr><tr><th>0</th><td>inf</td></tr><tr><th>1</th><td>inf</td></tr><tr><th>2</th><td>inf</td></tr><tr><th>3</th><td>inf</td></tr><tr><th>4</th><td>inf</td></tr><tr><th>5</th><td>inf</td></tr><tr><th>6</th><td>inf</td></tr><tr><th>7</th><td>inf</td></tr><tr><th>8</th><td>inf</td></tr><tr><th>9</th><td>inf</td></tr><tr><th>10</th><td>inf</td></tr><tr><th>11</th><td>inf</td></tr><tr><th>12</th><td>inf</td></tr><tr><th>13</th><td>inf</td></tr><tr><th>14</th><td>inf</td></tr><tr><th>15</th><td>inf</td></tr><tr><th>16</th><td>inf</td></tr><tr><th>17</th><td>inf</td></tr><tr><th>18</th><td>inf</td></tr><tr><th>19</th><td>inf</td></tr><tr><th>20</th><td>inf</td></tr><tr><th>21</th><td>inf</td></tr><tr><th>22</th><td>inf</td></tr><tr><th>23</th><td>inf</td></tr><tr><th>24</th><td>inf</td></tr><tr><th>25</th><td>inf</td></tr><tr><th>26</th><td>inf</td></tr><tr><th>27</th><td>inf</td></tr><tr><th>28</th><td>inf</td></tr><tr><th>29</th><td>inf</td></tr><tr><th>30</th><td>inf</td></tr><tr><th>31</th><td>inf</td></tr><tr><th>32</th><td>inf</td></tr><tr><th>33</th><td>inf</td></tr><tr><th>34</th><td>inf</td></tr><tr><th>35</th><td>inf</td></tr><tr><th>36</th><td>inf</td></tr><tr><th>37</th><td>inf</td></tr><tr><th>38</th><td>inf</td></tr><tr><th>39</th><td>inf</td></tr><tr><th>40</th><td>inf</td></tr><tr><th>41</th><td>inf</td></tr><tr><th>42</th><td>inf</td></tr><tr><th>43</th><td>inf</td></tr><tr><th>44</th><td>inf</td></tr><tr><th>45</th><td>inf</td></tr><tr><th>46</th><td>inf</td></tr><tr><th>47</th><td>inf</td></tr><tr><th>48</th><td>inf</td></tr><tr><th>49</th><td>inf</td></tr><tr><th>50</th><td>inf</td></tr><tr><th>51</th><td>inf</td></tr><tr><th>52</th><td>inf</td></tr><tr><th>53</th><td>inf</td></tr><tr><th>54</th><td>inf</td></tr><tr><th>55</th><td>inf</td></tr><tr><th>56</th><td>inf</td></tr><tr><th>57</th><td>inf</td></tr><tr><th>58</th><td>inf</td></tr><tr><th>59</th><td>inf</td></tr><tr><th>60</th><td>inf</td></tr><tr><th>61</th><td>inf</td></tr><tr><th>62</th><td>inf</td></tr><tr><th>63</th><td>inf</td></tr></table>"
      ]
     },
     "execution_count": 15,
     "metadata": {},
     "output_type": "execute_result"
    }
   ],
   "source": [
    "let mut radon_reconstructed = radon_transformed.clone();\n",
    "inverse_transform_radon_concs(& mut radon_reconstructed).unwrap();\n",
    "radon_reconstructed"
   ]
  },
  {
   "cell_type": "code",
   "execution_count": null,
   "metadata": {},
   "outputs": [
    {
     "data": {
      "text/plain": [
       "(64, 6)"
      ]
     },
     "execution_count": 16,
     "metadata": {},
     "output_type": "execute_result"
    }
   ],
   "source": [
    "let p = radon_transformed.clone();\n",
    "let npts = p.len();\n",
    "let num_levels = log2_usize(npts);\n",
    "(npts,num_levels)"
   ]
  },
  {
   "cell_type": "code",
   "execution_count": null,
   "metadata": {},
   "outputs": [
    {
     "data": {
      "text/html": [
       "<table><tr><th></th><th>0</th><tr><tr><th>0</th><td>0.0</td></tr><tr><th>1</th><td>0.5714285714285714</td></tr><tr><th>2</th><td>0.6153846153846154</td></tr><tr><th>3</th><td>0.631578947368421</td></tr><tr><th>4</th><td>0.6400000000000005</td></tr><tr><th>5</th><td>0.6451612903225806</td></tr><tr><th>6</th><td>0.6486486486486484</td></tr><tr><th>7</th><td>0.6511627906976737</td></tr><tr><th>8</th><td>0.653061224489796</td></tr><tr><th>9</th><td>0.654545454545455</td></tr><tr><th>10</th><td>0.6557377049180327</td></tr><tr><th>11</th><td>0.6567164179104481</td></tr><tr><th>12</th><td>0.6575342465753424</td></tr><tr><th>13</th><td>0.6582278481012659</td></tr><tr><th>14</th><td>0.6588235294117647</td></tr><tr><th>15</th><td>0.6593406593406588</td></tr><tr><th>16</th><td>0.6597938144329896</td></tr><tr><th>17</th><td>0.6601941747572816</td></tr><tr><th>18</th><td>0.660550458715596</td></tr><tr><th>19</th><td>0.6608695652173907</td></tr><tr><th>20</th><td>0.6611570247933879</td></tr><tr><th>21</th><td>0.6614173228346456</td></tr><tr><th>22</th><td>0.6616541353383465</td></tr><tr><th>23</th><td>0.6618705035971224</td></tr><tr><th>24</th><td>0.662068965517241</td></tr><tr><th>25</th><td>0.6622516556291391</td></tr><tr><th>26</th><td>0.6624203821656055</td></tr><tr><th>27</th><td>0.6625766871165637</td></tr><tr><th>28</th><td>0.6627218934911236</td></tr><tr><th>29</th><td>0.6628571428571424</td></tr><tr><th>30</th><td>0.6629834254143652</td></tr><tr><th>31</th><td>0.6631016042780752</td></tr><tr><th>32</th><td>0.2222222222222223</td></tr><tr><th>33</th><td>0.5777777777777775</td></tr><tr><th>34</th><td>0.6172839506172838</td></tr><tr><th>35</th><td>0.6324786324786326</td></tr><tr><th>36</th><td>0.6405228758169934</td></tr><tr><th>37</th><td>0.6455026455026451</td></tr><tr><th>38</th><td>0.6488888888888894</td></tr><tr><th>39</th><td>0.6513409961685828</td></tr><tr><th>40</th><td>0.6531986531986537</td></tr><tr><th>41</th><td>0.6546546546546546</td></tr><tr><th>42</th><td>0.6558265582655827</td></tr><tr><th>43</th><td>0.6567901234567902</td></tr><tr><th>44</th><td>0.6575963718820864</td></tr><tr><th>45</th><td>0.6582809224318661</td></tr><tr><th>46</th><td>0.6588693957115012</td></tr><tr><th>47</th><td>0.6593806921675768</td></tr><tr><th>48</th><td>0.2857142857142859</td></tr><tr><th>49</th><td>0.5806451612903224</td></tr><tr><th>50</th><td>0.6181818181818186</td></tr><tr><th>51</th><td>0.632911392405063</td></tr><tr><th>52</th><td>0.6407766990291266</td></tr><tr><th>53</th><td>0.6456692913385826</td></tr><tr><th>54</th><td>0.6490066225165558</td></tr><tr><th>55</th><td>0.6514285714285717</td></tr><tr><th>56</th><td>0.31111111111111045</td></tr><tr><th>57</th><td>0.5820105820105818</td></tr><tr><th>58</th><td>0.6186186186186188</td></tr><tr><th>59</th><td>0.6331236897274638</td></tr><tr><th>60</th><td>0.32258064516129054</td></tr><tr><th>61</th><td>0.5826771653543313</td></tr><tr><th>62</th><td>0.3280423280423283</td></tr><tr><th>63</th><td>inf</td></tr></table>"
      ]
     },
     "execution_count": 17,
     "metadata": {},
     "output_type": "execute_result"
    }
   ],
   "source": [
    "let mut params = p.iter().map(|itm| 2.0*transform_constrained_to_unconstrained(*itm)).collect::<Vec<_>>();\n",
    "params"
   ]
  },
  {
   "cell_type": "code",
   "execution_count": null,
   "metadata": {},
   "outputs": [
    {
     "data": {
      "text/plain": [
       "0.5"
      ]
     },
     "execution_count": 18,
     "metadata": {},
     "output_type": "execute_result"
    }
   ],
   "source": [
    "transform_unconstrained_to_constrained(0.0)"
   ]
  },
  {
   "cell_type": "code",
   "execution_count": null,
   "metadata": {},
   "outputs": [],
   "source": [
    "use num::Float\n",
    "\n",
    "pub fn exp_transform<P: Float>(u: P) -> (P, P) {\n",
    "    // | d/du (exp(u)) | = exp(u)\n",
    "    // log(|exp(u)|) = u\n",
    "    let mut sigma = u.exp();\n",
    "    if sigma > P::max_value(){\n",
    "        sigma = P::max_value();\n",
    "    }\n",
    "    if sigma < P::max_value(){\n",
    "        sigma = P::min_value();\n",
    "    }\n",
    "    \n",
    "    (sigma, u)\n",
    "}\n"
   ]
  },
  {
   "cell_type": "code",
   "execution_count": null,
   "metadata": {},
   "outputs": [
    {
     "data": {
      "text/plain": [
       "(-1.7976931348623157e308, -10.0)"
      ]
     },
     "execution_count": 22,
     "metadata": {},
     "output_type": "execute_result"
    }
   ],
   "source": [
    "exp_transform(-10.0)"
   ]
  },
  {
   "cell_type": "code",
   "execution_count": null,
   "metadata": {},
   "outputs": [
    {
     "data": {
      "text/plain": [
       "(1.7976931348623157e308, 1e99)"
      ]
     },
     "execution_count": 25,
     "metadata": {},
     "output_type": "execute_result"
    }
   ],
   "source": [
    "exp_transform(1e99)"
   ]
  },
  {
   "cell_type": "code",
   "execution_count": null,
   "metadata": {},
   "outputs": [
    {
     "data": {
      "text/plain": [
       "709.782712893384"
      ]
     },
     "execution_count": 27,
     "metadata": {},
     "output_type": "execute_result"
    }
   ],
   "source": [
    "(f64::MAX).ln()"
   ]
  },
  {
   "cell_type": "code",
   "execution_count": null,
   "metadata": {},
   "outputs": [
    {
     "data": {
      "text/plain": [
       "0.0"
      ]
     },
     "execution_count": 29,
     "metadata": {},
     "output_type": "execute_result"
    }
   ],
   "source": [
    "f64::MIN.exp()"
   ]
  },
  {
   "cell_type": "code",
   "execution_count": null,
   "metadata": {},
   "outputs": [
    {
     "data": {
      "text/plain": [
       "22026.465794806718"
      ]
     },
     "execution_count": 38,
     "metadata": {},
     "output_type": "execute_result"
    }
   ],
   "source": [
    "(10.0).exp()"
   ]
  },
  {
   "cell_type": "code",
   "execution_count": null,
   "metadata": {},
   "outputs": [
    {
     "data": {
      "text/plain": [
       "1.0019965718192345"
      ]
     },
     "execution_count": 33,
     "metadata": {},
     "output_type": "execute_result"
    }
   ],
   "source": [
    "(0.06253275212261494).exp() - 0.06253275212261494"
   ]
  },
  {
   "attachments": {},
   "cell_type": "markdown",
   "metadata": {},
   "source": [
    "**What is the maximum and minimum values we can work with if we're going to\n",
    "Exp transform them??***"
   ]
  },
  {
   "cell_type": "code",
   "execution_count": 2,
   "metadata": {},
   "outputs": [
    {
     "data": {
      "text/plain": [
       "709.782712893384"
      ]
     },
     "execution_count": 2,
     "metadata": {},
     "output_type": "execute_result"
    }
   ],
   "source": [
    "(f64::MAX).ln()"
   ]
  },
  {
   "cell_type": "code",
   "execution_count": 9,
   "metadata": {},
   "outputs": [
    {
     "data": {
      "text/plain": [
       "-709.782712893384"
      ]
     },
     "execution_count": 9,
     "metadata": {},
     "output_type": "execute_result"
    }
   ],
   "source": [
    "(1.0/f64::MAX).ln()"
   ]
  },
  {
   "cell_type": "code",
   "execution_count": 12,
   "metadata": {},
   "outputs": [
    {
     "data": {
      "text/plain": [
       "162754.79141900392"
      ]
     },
     "execution_count": 12,
     "metadata": {},
     "output_type": "execute_result"
    }
   ],
   "source": [
    "(12.0_f64).exp()"
   ]
  },
  {
   "cell_type": "code",
   "execution_count": 8,
   "metadata": {},
   "outputs": [
    {
     "data": {
      "text/plain": [
       "2.6881171418161356e43"
      ]
     },
     "execution_count": 8,
     "metadata": {},
     "output_type": "execute_result"
    }
   ],
   "source": [
    "(100.0_f64).exp()"
   ]
  },
  {
   "cell_type": "code",
   "execution_count": 13,
   "metadata": {},
   "outputs": [
    {
     "data": {
      "text/plain": [
       "7.552237287560802"
      ]
     },
     "execution_count": 13,
     "metadata": {},
     "output_type": "execute_result"
    }
   ],
   "source": [
    "1905_f64.ln()"
   ]
  },
  {
   "cell_type": "code",
   "execution_count": 15,
   "metadata": {},
   "outputs": [
    {
     "data": {
      "text/plain": [
       "2.82921701435156"
      ]
     },
     "execution_count": 15,
     "metadata": {},
     "output_type": "execute_result"
    }
   ],
   "source": [
    "1.04f64.exp()"
   ]
  },
  {
   "cell_type": "code",
   "execution_count": 6,
   "metadata": {},
   "outputs": [
    {
     "data": {
      "text/plain": [
       "[5, 25, 45, 65, 85, 105, 125]"
      ]
     },
     "execution_count": 6,
     "metadata": {},
     "output_type": "execute_result"
    }
   ],
   "source": [
    "let inputs: Vec<_> = (5..126).step_by(20).collect();\n",
    "inputs"
   ]
  },
  {
   "cell_type": "code",
   "execution_count": null,
   "metadata": {},
   "outputs": [],
   "source": []
  }
 ],
 "metadata": {
  "kernelspec": {
   "display_name": "Rust",
   "language": "rust",
   "name": "rust"
  },
  "language_info": {
   "codemirror_mode": "rust",
   "file_extension": ".rs",
   "mimetype": "text/rust",
   "name": "rust",
   "pygment_lexer": "rust",
   "version": ""
  },
  "orig_nbformat": 4
 },
 "nbformat": 4,
 "nbformat_minor": 2
}
